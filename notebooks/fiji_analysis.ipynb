{
 "cells": [
  {
   "cell_type": "markdown",
   "metadata": {},
   "source": [
    "# Analyze particles\n",
    "\n",
    "This notebook demonstrates how to analyze a batch of images associated to the paper ['Subdiffraction imaging of centrosomes reveals higher-order organizational features of pericentriolar material.'](http://dx.doi.org/10.1038/ncb2591) using the scripting facility available in [Fiji](https://fiji.sc/)\n",
    "\n",
    "Fiji has been installed with few other plugins including the omero_ij plugin to allow to connect to an OMERO server.\n",
    "See See [installation](https://omero-guides.readthedocs.io/en/latest/fiji/docs/installation.html)\n",
    "\n",
    "This session is based on content available in the [OMERO Fiji guide]( \n",
    "https://omero-guides.readthedocs.io/en/latest/fiji/docs/index.html).\n",
    "\n",
    "**Do not run** this notebook. It will not work."
   ]
  },
  {
   "cell_type": "markdown",
   "metadata": {},
   "source": [
    "## Learning objectives\n",
    "\n",
    " * How to connect to OMERO from Fiji using the Java API\n",
    " * How to open an OMERO image using Bio-Formats (Java library used to read images)\n",
    " * How to analyse an image using Fiji\n",
    " * How to save ROIs back to OMERO\n",
    " * How to save the results as CSV to OMERO\n",
    " \n",
    "We first look on how the script is set up. \n",
    "The connection and how the images are read using Bio-Formats are the same. There are other ways to read the images or part of the images e.g. one plane. This is outside the scope of this session. If interested, we recommend to review the scripts available in the omero-guide-fiji GitHub [repository](https://github.com/ome/omero-guide-fiji/tree/master/scripts/groovy)."
   ]
  },
  {
   "cell_type": "markdown",
   "metadata": {},
   "source": [
    "## Import packages\n",
    "At the beginning of a script, you need to import the packages that will be required to connect to OMERO, run the images and interact with ImageJ commands"
   ]
  },
  {
   "cell_type": "code",
   "execution_count": null,
   "metadata": {},
   "outputs": [],
   "source": [
    "import java.util.ArrayList\n",
    "import java.io.File\n",
    "import java.io.PrintWriter\n",
    "\n",
    "import java.nio.file.Files\n",
    "\n",
    "// OMERO Dependencies\n",
    "import omero.gateway.Gateway\n",
    "import omero.gateway.LoginCredentials\n",
    "import omero.gateway.SecurityContext\n",
    "import omero.gateway.facility.BrowseFacility\n",
    "import omero.gateway.facility.DataManagerFacility\n",
    "import omero.gateway.facility.ROIFacility\n",
    "import omero.log.SimpleLogger\n",
    "\n",
    "import omero.gateway.model.DatasetData\n",
    "import omero.model.DatasetI\n",
    "\n",
    "import org.openmicroscopy.shoola.util.roi.io.ROIReader\n",
    "\n",
    "import ij.IJ\n",
    "import ij.plugin.frame.RoiManager\n",
    "import ij.measure.ResultsTable"
   ]
  },
  {
   "cell_type": "markdown",
   "metadata": {},
   "source": [
    "### Connection information \n",
    "We enter the server to connect. This could an OMERO server or IDR"
   ]
  },
  {
   "cell_type": "code",
   "execution_count": 2,
   "metadata": {},
   "outputs": [],
   "source": [
    "// Connection information\n",
    "#@ String(label=\"Username\") USERNAME\n",
    "#@ String(label=\"Password\", style='password') PASSWORD\n",
    "#@ String(label=\"Host\", value='wss://workshop.openmicroscopy.org/omero-ws') HOST\n",
    "#@ Integer(label=\"Dataset ID\", value=2331) dataset_id"
   ]
  },
  {
   "cell_type": "markdown",
   "metadata": {},
   "source": [
    "### Connect to OMERO\n",
    "\n",
    "This method establishes a connection with the OMERO server so we can analyse the images in Fiji."
   ]
  },
  {
   "cell_type": "code",
   "execution_count": 3,
   "metadata": {},
   "outputs": [],
   "source": [
    "// Method to connect to OMERO\n",
    "def connect_to_omero(host, user, password) {\n",
    "    \"Connect to OMERO\"\n",
    "\n",
    "    credentials = new LoginCredentials()\n",
    "    credentials.getServer().setHostname(host)\n",
    "    credentials.getUser().setUsername(user.trim())\n",
    "    credentials.getUser().setPassword(password.trim())\n",
    "    simpleLogger = new SimpleLogger()\n",
    "    gateway = new Gateway(simpleLogger)\n",
    "    gateway.connect(credentials)\n",
    "    return gateway\n",
    "}\n",
    "\n",
    "// Connect to OMERO\n",
    "println \"connecting...\"\n",
    "gateway = connect_to_omero(HOST, USERNAME, PASSWORD)\n",
    "println \"connected...\""
   ]
  },
  {
   "cell_type": "markdown",
   "metadata": {},
   "source": [
    "## Retrieve images in a dataset\n",
    "We only retrieve the information about the images e.g. name, identifier, etc. We **do not** load binary data yet"
   ]
  },
  {
   "cell_type": "code",
   "execution_count": null,
   "metadata": {},
   "outputs": [],
   "source": [
    "def get_images(gateway, ctx, dataset_id) {\n",
    "    \"List all images contained in a Dataset\"\n",
    "\n",
    "    browse = gateway.getFacility(BrowseFacility)\n",
    "    ids = new ArrayList(1)\n",
    "    ids.add(new Long(dataset_id))\n",
    "    return browse.getImagesForDatasets(ctx, ids)\n",
    "}"
   ]
  },
  {
   "cell_type": "markdown",
   "metadata": {},
   "source": [
    "## Open the image using Bio-Formats\n",
    "\n",
    "We use the Bio-Formats plugin to read the images i.e. we read the binary data from the OMERO.server\n",
    "\n",
    "We pass the ``image_id`` to the plugin.\n",
    "The output of the method will allow us to read the image in imageJ i.e. ``imp = IJ.getImage()``."
   ]
  },
  {
   "cell_type": "code",
   "execution_count": 7,
   "metadata": {},
   "outputs": [],
   "source": [
    "//Function to Open an OMERO image using Bio-Formats\n",
    "def open_image_plus(host, username, password, group_id, image_id) {\n",
    "    \"Open the image using the Bio-Formats Importer\"\n",
    "\n",
    "    StringBuilder options = new StringBuilder()\n",
    "    options.append(\"location=[OMERO] open=[omero:server=\")\n",
    "    options.append(host)\n",
    "    options.append(\"\\nuser=\")\n",
    "    options.append(username)\n",
    "    options.append(\"\\nport=\")\n",
    "    options.append(443)\n",
    "    options.append(\"\\npass=\")\n",
    "    options.append(password)\n",
    "    options.append(\"\\ngroupID=\")\n",
    "    options.append(group_id)\n",
    "    options.append(\"\\niid=\")\n",
    "    options.append(image_id)\n",
    "    options.append(\"] \")\n",
    "    options.append(\"windowless=true view=Hyperstack \")\n",
    "    IJ.runPlugIn(\"loci.plugins.LociImporter\", options.toString())\n",
    "}\n",
    "\n",
    "println \"opening Image...\"\n",
    "// Open the Image using Bio-Formats\n",
    "open_image_plus(HOST, USERNAME, PASSWORD, group_id, String.valueOf(image_id))\n",
    "imp = IJ.getImage()"
   ]
  },
  {
   "cell_type": "markdown",
   "metadata": {},
   "source": [
    "## Analyze the image\n",
    "\n",
    "We can run the analysis step-by-step or run the [fiji-macro-segment.ijm](../scripts/fiji-macro-segment.ijm) on the images\n",
    "\n",
    "\n",
    "The analysis steps are:\n",
    " - convert the image into an 8-bit image\n",
    " - set the autothreshold to MaxEntropy\n",
    " - run the Analyze Particles plugin"
   ]
  },
  {
   "cell_type": "code",
   "execution_count": null,
   "metadata": {},
   "outputs": [],
   "source": [
    "RoiManager.getRoiManager()\n",
    "IJ.run(\"8-bit\")\n",
    "//white might be required depending on the version of Fiji\n",
    "IJ.run(imp, \"Auto Threshold\", \"method=MaxEntropy stack\")\n",
    "IJ.run(imp, \"Analyze Particles...\", \"size=10-Infinity pixel display clear add stack summarize\")\n",
    "IJ.run(\"Set Measurements...\", \"area mean standard modal min centroid center perimeter bounding feret's summarize stack display redirect=None decimal=3\")  "
   ]
  },
  {
   "cell_type": "markdown",
   "metadata": {},
   "source": [
    "or"
   ]
  },
  {
   "cell_type": "code",
   "execution_count": 8,
   "metadata": {},
   "outputs": [],
   "source": [
    "RoiManager.getRoiManager()\n",
    "IJ.runMacroFile(\"PATH_TO_MICROFILE/fiji-macro-segment.ijm\")\n",
    "println \"Analysis completed\""
   ]
  },
  {
   "cell_type": "markdown",
   "metadata": {},
   "source": [
    "## Convert  and save Regions of Interest (ROIs)\n",
    " * Convert the ImageJ ROIs into the OMERO ROIs\n",
    " * Save them back to the server"
   ]
  },
  {
   "cell_type": "code",
   "execution_count": null,
   "metadata": {},
   "outputs": [],
   "source": [
    "def save_rois_to_omero(ctx, image_id, imp) {\n",
    "    \" Save ROI's back to OMERO\"\n",
    "    reader = new ROIReader()\n",
    "    //convert\n",
    "    roi_list = reader.readImageJROIFromSources(image_id, imp)\n",
    "    roi_facility = gateway.getFacility(ROIFacility)\n",
    "    \n",
    "    result = roi_facility.saveROIs(ctx, image_id, exp_id, roi_list)\n",
    "}"
   ]
  },
  {
   "cell_type": "markdown",
   "metadata": {},
   "source": [
    "## Export and save the results as CSV\n",
    "* Export the results as CSV \n",
    "* Save the CSV file back to the server"
   ]
  },
  {
   "cell_type": "code",
   "execution_count": null,
   "metadata": {},
   "outputs": [],
   "source": [
    "def save_row(rt, table_rows, image) {\n",
    "    \"Create a summary table of the measurements\"\n",
    "    // Remove the rows not corresponding to the specified channel\n",
    "    to_delete = new ArrayList()\n",
    "    \n",
    "    // We only keep the first channel. Index starts at 1 in ImageJ\n",
    "    ref = \"c:\" + 1\n",
    "    max_bounding_box = 0.0f\n",
    "    for (i = 0; i < rt.size(); i++) {\n",
    "        label = rt.getStringValue(\"Label\", i)\n",
    "        if (label.contains(ref)) {\n",
    "            w = rt.getStringValue(\"Width\", i)\n",
    "            h = rt.getStringValue(\"Height\", i)\n",
    "            area = Float.parseFloat(w) * Float.parseFloat(h)\n",
    "            max_bounding_box = Math.max(area, max_bounding_box)\n",
    "        }\n",
    "    }\n",
    "    // Rename the table so we can read the summary table\n",
    "    IJ.renameResults(\"Results\")\n",
    "    rt = ResultsTable.getResultsTable()\n",
    "    for (i = 0; i < rt.size(); i++) {\n",
    "        value = rt.getStringValue(\"Slice\", i)\n",
    "        if (!value.startsWith(ref)) {\n",
    "            to_delete.add(i)\n",
    "        }\n",
    "    }\n",
    "    // Delete the rows we do not need\n",
    "    for (i = 0; i < rt.size(); i++) {\n",
    "        value = to_delete.get(i)\n",
    "        v = value-i\n",
    "        rt.deleteRow(v)\n",
    "    }\n",
    "    rt.updateResults()\n",
    "    // Insert values in summary table\n",
    "    for (i = 0; i < rt.size(); i++) {\n",
    "        rt.setValue(\"Bounding_Box\", i, max_bounding_box)\n",
    "    }\n",
    "    headings = rt.getHeadings()\n",
    "    for (i = 0; i < headings.length; i++) {\n",
    "        row = new ArrayList()\n",
    "        for (j = 0; j < rt.size(); j++) {\n",
    "            for (i = 0; i < headings.length; i++) {\n",
    "                heading = rt.getColumnHeading(i)\n",
    "                if (heading.equals(\"Slice\") || heading.equals(\"Dataset\")) {\n",
    "                    row.add(rt.getStringValue(i, j))\n",
    "                } else {\n",
    "                    row.add(new Double(rt.getValue(i, j)))\n",
    "                }\n",
    "            }\n",
    "        }\n",
    "        row.add(image.getId())\n",
    "        table_rows.add(row)\n",
    "    }\n",
    "    return headings\n",
    "}\n",
    "\n",
    "def create_table_columns(headings) {\n",
    "    \"Create the table headings from the ImageJ results table\"\n",
    "    size = headings.size()\n",
    "    table_columns = new String[size+1]\n",
    "    //populate the headings\n",
    "    for (h = 0; h < headings.size(); h++) {\n",
    "        heading = headings[h]\n",
    "        // OMERO.tables queries don't handle whitespace well\n",
    "        heading = heading.replace(\" \", \"_\")\n",
    "        table_columns[h] = heading\n",
    "    }\n",
    "    table_columns[size] = \"Image\"\n",
    "    return table_columns\n",
    "}\n",
    "\n",
    "\n",
    "def save_summary_as_csv(file, rows, columns) {\n",
    "    \"Save the summary locally as a CSV\"\n",
    "    stream = null\n",
    "    sb = new StringBuilder()\n",
    "    try {\n",
    "        stream = new PrintWriter(file)\n",
    "        l = columns.length\n",
    "        for (i = 0; i < l; i++) {\n",
    "            sb.append(columns[i])\n",
    "            if (i != (l-1)) {\n",
    "                sb.append(\", \")\n",
    "            }\n",
    "        }\n",
    "        sb.append(\"\\n\")\n",
    "        rows.each() { row ->\n",
    "            size = row.size()\n",
    "            for (i = 0; i < size; i++) {\n",
    "                value = row.get(i)\n",
    "                sb.append(value)\n",
    "                if (i != (size-1)) {\n",
    "                    sb.append(\", \")\n",
    "                }\n",
    "            }\n",
    "            sb.append(\"\\n\")\n",
    "        }\n",
    "        stream.write(sb.toString())\n",
    "    } finally {\n",
    "        stream.close()\n",
    "    }\n",
    "}"
   ]
  },
  {
   "cell_type": "code",
   "execution_count": null,
   "metadata": {},
   "outputs": [],
   "source": [
    "// Upload the results to OMERO\n",
    "def upload_csv_to_omero(ctx, file, dataset_id) {\n",
    "    \"Upload the CSV file and attach it to the specified dataset\"\n",
    "    svc = gateway.getFacility(DataManagerFacility)\n",
    "    data = new DatasetData(new DatasetI(dataset_id, false))\n",
    "    namespace = \"training.demo\"\n",
    "    mimetype = \"text/csv\"\n",
    "    future = svc.attachFile(ctx, file, mimetype, \"\", namespace, data)\n",
    "    future.get()\n",
    "}"
   ]
  },
  {
   "cell_type": "markdown",
   "metadata": {},
   "source": [
    "## Close the connection"
   ]
  },
  {
   "cell_type": "code",
   "execution_count": 10,
   "metadata": {},
   "outputs": [
    {
     "name": "stdout",
     "output_type": "stream",
     "text": [
      "Done\n"
     ]
    },
    {
     "data": {
      "text/plain": [
       "true"
      ]
     },
     "execution_count": 10,
     "metadata": {},
     "output_type": "execute_result"
    }
   ],
   "source": [
    "// Close the connection\n",
    "gateway.disconnect()\n",
    "println \"Done\""
   ]
  },
  {
   "cell_type": "markdown",
   "metadata": {},
   "source": [
    "### License (BSD 2-Clause)\n",
    "Copyright (c) 2023, University of Dundee All rights reserved.\n",
    "\n",
    "Redistribution and use in source and binary forms, with or without modification, are permitted provided that the following conditions are met:\n",
    "\n",
    "Redistributions of source code must retain the above copyright notice, this list of conditions and the following disclaimer. Redistributions in binary form must reproduce the above copyright notice, this list of conditions and the following disclaimer in the documentation and/or other materials provided with the distribution. THIS SOFTWARE IS PROVIDED BY THE COPYRIGHT HOLDERS AND CONTRIBUTORS \"AS IS\" AND ANY EXPRESS OR IMPLIED WARRANTIES, INCLUDING, BUT NOT LIMITED TO, THE IMPLIED WARRANTIES OF MERCHANTABILITY AND FITNESS FOR A PARTICULAR PURPOSE ARE DISCLAIMED. IN NO EVENT SHALL THE COPYRIGHT OWNER OR CONTRIBUTORS BE LIABLE FOR ANY DIRECT, INDIRECT, INCIDENTAL, SPECIAL, EXEMPLARY, OR CONSEQUENTIAL DAMAGES (INCLUDING, BUT NOT LIMITED TO, PROCUREMENT OF SUBSTITUTE GOODS OR SERVICES; LOSS OF USE, DATA, OR PROFITS; OR BUSINESS INTERRUPTION) HOWEVER CAUSED AND ON ANY THEORY OF LIABILITY, WHETHER IN CONTRACT, STRICT LIABILITY, OR TORT (INCLUDING NEGLIGENCE OR OTHERWISE) ARISING IN ANY WAY OUT OF THE USE OF THIS SOFTWARE, EVEN IF ADVISED OF THE POSSIBILITY OF SUCH DAMAGE. "
   ]
  }
 ],
 "metadata": {
  "kernelspec": {
   "display_name": "Groovy",
   "language": "groovy",
   "name": "groovy"
  },
  "language_info": {
   "codemirror_mode": "groovy",
   "file_extension": ".groovy",
   "mimetype": "",
   "name": "Groovy",
   "nbconverter_exporter": "",
   "version": "2.5.6"
  },
  "toc": {
   "base_numbering": 1,
   "nav_menu": {},
   "number_sections": false,
   "sideBar": false,
   "skip_h1_title": false,
   "title_cell": "Table of Contents",
   "title_sidebar": "Contents",
   "toc_cell": false,
   "toc_position": {},
   "toc_section_display": false,
   "toc_window_display": false
  }
 },
 "nbformat": 4,
 "nbformat_minor": 2
}
