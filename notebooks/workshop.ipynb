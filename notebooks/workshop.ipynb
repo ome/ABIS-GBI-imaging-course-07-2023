{
 "cells": [
  {
   "cell_type": "markdown",
   "id": "462b90fe",
   "metadata": {},
   "source": [
    "## Image Data Resource (IDR) practical\n",
    "\n",
    "### Outline \n",
    "* Basics (this notebook)\n",
    "* [Read local and remote data](Reading_images.ipynb)\n",
    "* [Validate a tool against IDR data](Cellpose.ipynb)\n",
    "* [Use Public resources to answer a biological question](PublicResources.ipynb)\n",
    "* [Use Cellprofiler](Cellprofiler.ipynb)"
   ]
  },
  {
   "cell_type": "markdown",
   "id": "365fd2d2",
   "metadata": {},
   "source": [
    "### Objectives\n",
    "\n",
    " * Create a virtual environment for analysis.\n",
    " * Read local data\n",
    " * Demonstrate how to access data from IDR using the Python API.\n",
    " * Re-analyze data using a different tool than the ones considered by the authors."
   ]
  },
  {
   "cell_type": "markdown",
   "id": "a1b813ab",
   "metadata": {},
   "source": [
    "## Running the notebooks\n",
    "\n",
    "### Running on cloud resources\n",
    "[![Colab](https://colab.research.google.com/assets/colab-badge.svg)](https://colab.research.google.com/github/ome/ABIS-GBI-imaging-course-07-2023/notebooks/)\n",
    "\n",
    "\n",
    "### Running locally\n",
    "\n",
    "Finally, if you would like to install the necessary requirements locally,\n",
    "we suggest using Mamba:\n",
    "\n",
    "* If you do not have any pre-existing conda installation, [install Mamba](https://mamba.readthedocs.io/en/latest/installation.html#installation) and use [mambaforge](https://github.com/conda-forge/miniforge#mambaforge). \n",
    "* In case you have a pre-existing conda installation, you can install Mamba by either:\n",
    "  - Using the recommended way to install Mamba from [mambaforge](https://github.com/conda-forge/miniforge#mambaforge). This will not invalidate your conda installation, but possibly your pre-existing conda envs will be in a different location (e.g. ``/Users/USER_NAME/opt/anaconda3/envs/``) then the new mamba envs (e.g. ``/Users/USER_NAME/mambaforge/envs/``). You can verify this by running ``conda env list``. The addition of ``export CONDA_ENVS_PATH=/Users/user/opt/anaconda3/envs/`` into your ``.bashprofile`` or ``.zprofile`` file will fix this. \n",
    "  - Use the [Existing conda install](https://mamba.readthedocs.io/en/latest/installation.html#existing-conda-install) way, i.e. run ``conda install mamba -n base -c conda-forge`` whilst in the base environment. This way can take much longer time than the recommended way described above, and might not lead to a successful installation, especially if run on arm64 (Apple Silicon) OS X.\n",
    "\n",
    "To avoid conflict with used packages, we have prepared several environments:\n",
    "``notebooks/environment_cellpose.yml`` and ``notebooks/environment.yml``.\n",
    "\n",
    "Create the environments. For this, first run the commands below as written, then replace ``notebooks/environment_cellpose.yml`` motives with ``notebooks/environment.yml`` and run again to create the other env:\n",
    "\n",
    "For Windows, OS X x86_64 (NOT arm64 Apple Silicon), Linux:\n",
    "\n",
    "    $ git clone https://github.com/ome/ABIS-GBI-imaging-course-07-2023\n",
    "    \n",
    "    $ cd ABIS-GBI-imaging-course-07-2023\n",
    "\n",
    "    $ mamba env create -f notebooks/environment_cellpose.yml\n",
    "\n",
    "For OS X arm64 Apple Silicon\n",
    "\n",
    "    $ git clone https://github.com/ome/ABIS-GBI-imaging-course-07-2023   \n",
    "    \n",
    "    $ cd ABIS-GBI-imaging-course-07-2023\n",
    "    \n",
    "    $ CONDA_SUBDIR=osx-64 mamba env create -f notebooks/environment_cellpose.yml\n",
    "\n",
    "and activate the newly created environment:\n",
    "\n",
    "    $ conda activate abis_gbi_course_cellpose_2023\n",
    "    \n",
    "Before creating a new environment, remember to deactivate the current one:\n",
    "\n",
    "    $ conda deactivate\n",
    "\n",
    "See also [Conda command reference](https://docs.conda.io/projects/conda/en/latest/commands.html).\n",
    "\n",
    "The following steps are only required if you want to run the notebooks.\n",
    "\n",
    "* If you have Anaconda installed:\n",
    "  * Start Jupyter from the Anaconda-navigator\n",
    "  * In the conda environment, run ``mamba install ipykernel`` (for OS X Apple Silicon ``CONDA_SUBDIR=osx-64 mamba install ipykernel``)\n",
    "  * To register the environment, run ``python -m ipykernel install --user --name abis_gbi_course_cellpose_2023``\n",
    "  * Select the notebook you wish to run and select the ``Kernel>Change kernel>Python [conda env:abis_gbi_course_cellpose_2023]`` or ``Kernel>Change kernel>abis_gbi_course_cellpose_2023``\n",
    "* If Anaconda is not installed:\n",
    "  * Add the virtualenv as a jupyter kernel i.e. ``ipython kernel install --name \"abis_gbi_course_cellpose_2023\" --user``\n",
    "  * Open jupyter notebook i.e. ``jupyter notebook`` and select the ``abis_gbi_course_cellpose_2023`` kernel or ``[conda env:abis_gbi_course_cellpose_2023]`` according to what is available.\n",
    "\n",
    "To stop the notebook server, in the terminal where te server is running, press ``Ctrl C``. The following question will be asked in the terminal ``Shutdown this notebook server (y/[n])?``. Enter the desired choice.\n",
    "  "
   ]
  },
  {
   "cell_type": "markdown",
   "id": "885c1a69",
   "metadata": {},
   "source": [
    "## Tutorial Structure\n",
    "\n",
    "\n",
    "Each section is a Jupyter notebook. There's a mixture of text, code, and exercises.\n",
    "\n",
    "If you haven't used Jupyter Notebook before, the quick intro is\n",
    "\n",
    "* There are two modes: ``command`` and ``edit``\n",
    "* From command ``mode``, press ``Enter`` to edit a cell (like this markdown cell)\n",
    "* From ``edit`` mode, press ``Esc`` to change to command mode\n",
    "* Press ``shift+enter`` to execute a cell and move to the next cell.\n",
    "* The toolbar has commands for executing, converting, and creating cells.\n",
    "* Use the `%%time` magic at the beginning of a cell to check how long the computation takes or use the magic ``%time`` in front of a command if only running one command."
   ]
  }
 ],
 "metadata": {
  "kernelspec": {
   "display_name": "Python 3 (ipykernel)",
   "language": "python",
   "name": "python3"
  },
  "language_info": {
   "codemirror_mode": {
    "name": "ipython",
    "version": 3
   },
   "file_extension": ".py",
   "mimetype": "text/x-python",
   "name": "python",
   "nbconvert_exporter": "python",
   "pygments_lexer": "ipython3",
   "version": "3.9.12"
  }
 },
 "nbformat": 4,
 "nbformat_minor": 5
}
