{
 "cells": [
  {
   "cell_type": "markdown",
   "id": "27ff8099",
   "metadata": {},
   "source": [
    "# Load ome.zarr Image with labels from public S3 repositories, analyze in parallel using Cellpose and compare results\n",
    "\n",
    "[![Open in Colab](https://colab.research.google.com/assets/colab-badge.svg)](https://colab.research.google.com/github/ome/ABIS-GBI-imaging-course-07-2023/blob/main/notebooks/Cellpose_parallel.ipynb)\n"
   ]
  },
  {
   "cell_type": "markdown",
   "id": "e3a1fc28",
   "metadata": {},
   "source": [
    "## Learning objectives\n",
    "\n",
    "* Read data to analyse from an object store.\n",
    "* Analyse data in parallel using Dask.\n",
    "* Show how to use public resources to train neural network.\n",
    "* Load labels associated to the original data\n",
    "* Compare results with ground truth."
   ]
  },
  {
   "cell_type": "markdown",
   "id": "177a6602",
   "metadata": {},
   "source": [
    "## Summary:\n",
    "![Overview](./includes/CellposeParallel.png)"
   ]
  },
  {
   "cell_type": "markdown",
   "id": "3fb703cf",
   "metadata": {},
   "source": [
    "The authors of the PLOS Biology paper, \"Nessys: A new set of tools for the automated detection of nuclei within intact tissues and dense 3D cultures\" published in August 2019: https://doi.org/10.1371/journal.pbio.3000388, considered several image segmenation packages, but they did not use the approach described in this notebook.\n",
    "\n",
    "We will analyse the data using [Cellpose](https://www.cellpose.org/) and compare the output with the original segmentation produced by the authors. Cellpose was not considered by the authors. Our workflow shows how public repository can be accessed and data inside it used to validate software tools or new algorithms.\n",
    "\n",
    "We will use a predefined model from [Cellpose](https://www.cellpose.org/) as a starting point.\n",
    "\n",
    "## Launch\n",
    "\n",
    "This notebook uses the [environment_cellpose_zarr.yml](./environment_cellpose_zarr.yml) file.\n",
    "\n",
    "See [Setup](./workshop.ipynb).\n",
    "\n"
   ]
  },
  {
   "cell_type": "markdown",
   "id": "0e06b625",
   "metadata": {},
   "source": [
    "### Install dependencies if required\n",
    "\n",
    "The cell below will install dependencies if you choose to run the notebook in [Google Colab](https://colab.research.google.com/notebooks/intro.ipynb#recent=true). **Do not run the cell if you are not running the notebook on Google Colab**.\n",
    "\n",
    "If using Google Colab, **do not** use the ``Runtime>Run all`` entry."
   ]
  },
  {
   "cell_type": "code",
   "execution_count": 21,
   "id": "0b393c08",
   "metadata": {},
   "outputs": [],
   "source": [
    "# Package to access data on S3\n",
    "%pip install aiohttp==3.8.4 zarr==2.14.2\n",
    "\n",
    "# Package required to interact with Cellpose\n",
    "%pip install cellpose==2.2.1"
   ]
  },
  {
   "cell_type": "markdown",
   "id": "b0be9f61",
   "metadata": {},
   "source": [
    "## Lazy Load the data\n",
    "The method below will return a dask array without any binary data. The dimension order of the array returned is (TCZYX). Data will be loaded when requested later."
   ]
  },
  {
   "cell_type": "code",
   "execution_count": 23,
   "id": "c03df9c1",
   "metadata": {},
   "outputs": [],
   "source": [
    "image_id = 6001247"
   ]
  },
  {
   "cell_type": "code",
   "execution_count": 24,
   "id": "6fba0e1e",
   "metadata": {},
   "outputs": [],
   "source": [
    "ENPOINT_URL = 'https://uk1s3.embassy.ebi.ac.uk/'"
   ]
  },
  {
   "cell_type": "code",
   "execution_count": 25,
   "id": "ab22f7ba",
   "metadata": {},
   "outputs": [],
   "source": [
    "import dask\n",
    "import dask.array as da\n",
    "def load_binary_from_s3(name, resolution='0'):\n",
    "    root = '%s/%s/' % (name, resolution)\n",
    "    return da.from_zarr(ENPOINT_URL + root)"
   ]
  },
  {
   "cell_type": "code",
   "execution_count": 26,
   "id": "d0165b2f",
   "metadata": {},
   "outputs": [
    {
     "name": "stdout",
     "output_type": "stream",
     "text": [
      "CPU times: user 19.5 ms, sys: 16.9 ms, total: 36.4 ms\n",
      "Wall time: 336 ms\n"
     ]
    }
   ],
   "source": [
    "%%time \n",
    "name = 'idr/zarr/v0.1/%s.zarr' % (image_id)\n",
    "data = load_binary_from_s3(name)"
   ]
  },
  {
   "cell_type": "markdown",
   "id": "4a6c28d6",
   "metadata": {},
   "source": [
    "## Load Cellpose trained model \n",
    "\n",
    "We use an existing trained model from Cellpose. The cytoplasm model in cellpose is trained on two-channel images, where the first channel is the channel to segment, and the second channel is an optional nuclear channel. \n",
    "Please check Cellpose documentation and examples to load your own model."
   ]
  },
  {
   "cell_type": "code",
   "execution_count": 38,
   "id": "28fb6081",
   "metadata": {},
   "outputs": [],
   "source": [
    "from cellpose import models\n",
    "model = models.Cellpose(gpu=False, model_type='cyto')"
   ]
  },
  {
   "cell_type": "markdown",
   "id": "2f4e2188",
   "metadata": {},
   "source": [
    "## Helper methods\n",
    "\n",
    "* Define the analysis to be performed\n",
    "* Build the graph to compute"
   ]
  },
  {
   "cell_type": "code",
   "execution_count": 28,
   "id": "298903ce",
   "metadata": {},
   "outputs": [],
   "source": [
    "def analyze(z):\n",
    "    t = 0\n",
    "    channels = [[0, 1]]\n",
    "    model = models.Cellpose(gpu=False, model_type='cyto')\n",
    "    cellpose_masks, flows, styles, diams = model.eval(data[t, :, z, :, :], diameter=None, channels=channels)\n",
    "    return cellpose_masks, z"
   ]
  },
  {
   "cell_type": "markdown",
   "id": "8ee7bc74",
   "metadata": {},
   "source": [
    "We use ``dask.delayed`` to analyse a few Z-sections around the middle z-section.\n",
    "This very quick since we build the [task graph](https://docs.dask.org/en/stable/graphs.html) and do not perform the analysis at this stage"
   ]
  },
  {
   "cell_type": "code",
   "execution_count": 29,
   "id": "134a0cdf",
   "metadata": {},
   "outputs": [
    {
     "name": "stdout",
     "output_type": "stream",
     "text": [
      "CPU times: user 11 µs, sys: 2 µs, total: 13 µs\n",
      "Wall time: 21 µs\n"
     ]
    }
   ],
   "source": [
    "%%time\n",
    "def build_task_graph(range_z):\n",
    "    lazy_results = []\n",
    "    middle_z = data.shape[2] // 2\n",
    "    for z in range(middle_z - range_z, middle_z + range_z):\n",
    "        lazy_result = dask.delayed(analyze)(z)\n",
    "        lazy_results.append(lazy_result)\n",
    "    return lazy_results"
   ]
  },
  {
   "cell_type": "markdown",
   "id": "ee02a8ac",
   "metadata": {},
   "source": [
    "## Compute\n",
    "* Build the task graph to compute\n",
    "* Perform the analysis in parallel"
   ]
  },
  {
   "cell_type": "code",
   "execution_count": 30,
   "id": "444fbbb9",
   "metadata": {},
   "outputs": [
    {
     "name": "stdout",
     "output_type": "stream",
     "text": [
      "[Delayed('analyze-fbc541ad-5868-49ab-8883-97b43b03d713'), Delayed('analyze-3d01f069-1621-4063-abe4-1c150a47185c'), Delayed('analyze-a540ca1b-e834-4dcf-bb45-0a06b6e86ac5'), Delayed('analyze-1be0d59f-12a0-4114-962c-d3056095892f')]\n",
      "CPU times: user 1.29 ms, sys: 624 µs, total: 1.91 ms\n",
      "Wall time: 1.78 ms\n"
     ]
    }
   ],
   "source": [
    "%%time\n",
    "# Build the task graph\n",
    "lazy_results = build_task_graph(2)\n",
    "print(lazy_results)"
   ]
  },
  {
   "cell_type": "code",
   "execution_count": 31,
   "id": "5702e780",
   "metadata": {},
   "outputs": [
    {
     "name": "stdout",
     "output_type": "stream",
     "text": [
      "CPU times: user 44 s, sys: 7.85 s, total: 51.9 s\n",
      "Wall time: 10.7 s\n"
     ]
    }
   ],
   "source": [
    "%%time\n",
    "# Analyse the data in parallel\n",
    "results = dask.compute(*lazy_results)"
   ]
  },
  {
   "cell_type": "markdown",
   "id": "e60759c7",
   "metadata": {},
   "source": [
    "## View the results "
   ]
  },
  {
   "cell_type": "code",
   "execution_count": 32,
   "id": "ccdf516c",
   "metadata": {},
   "outputs": [
    {
     "data": {
      "application/vnd.jupyter.widget-view+json": {
       "model_id": "ac69015da46346f2aeef158dc33f4c7d",
       "version_major": 2,
       "version_minor": 0
      },
      "text/plain": [
       "interactive(children=(IntSlider(value=0, continuous_update=False, description='Select Plane', max=3), Output()…"
      ]
     },
     "metadata": {},
     "output_type": "display_data"
    },
    {
     "data": {
      "text/plain": [
       "<function __main__.display_results(i=0)>"
      ]
     },
     "execution_count": 32,
     "metadata": {},
     "output_type": "execute_result"
    }
   ],
   "source": [
    "import matplotlib.pyplot as plt\n",
    "%matplotlib inline\n",
    "from ipywidgets import *\n",
    "\n",
    "def display_results(i=0):\n",
    "    r, z = results[i]\n",
    "    fig = plt.figure(figsize=(10, 10))\n",
    "    plt.subplot(121)\n",
    "    plt.imshow(r)\n",
    "    plt.title(\"z: %s\" % z)\n",
    "    fig.canvas.flush_events()\n",
    "\n",
    "interact(display_results, i= widgets.IntSlider(value=0, min=0, max=len(results)-1, step=1, description=\"Select Plane\", continuous_update=False))"
   ]
  },
  {
   "cell_type": "markdown",
   "id": "f3315ba2",
   "metadata": {},
   "source": [
    "## Compare the original analysis result with the Cellpose result\n",
    "On the right, the labels loaded from S3 representing the original analysis by the authors of the paper. On the left, the masks from Cellpose."
   ]
  },
  {
   "cell_type": "markdown",
   "id": "951c6bde",
   "metadata": {},
   "source": [
    "### Load the labels\n",
    "Load the labels from S3. Labels are stored alongside the binary data."
   ]
  },
  {
   "cell_type": "code",
   "execution_count": 33,
   "id": "25962f5a",
   "metadata": {},
   "outputs": [
    {
     "name": "stdout",
     "output_type": "stream",
     "text": [
      "CPU times: user 9.79 ms, sys: 3.03 ms, total: 12.8 ms\n",
      "Wall time: 129 ms\n"
     ]
    }
   ],
   "source": [
    "%%time\n",
    "name = 'idr/zarr/v0.1/%s.zarr/labels' % image_id\n",
    "labels = load_binary_from_s3(name)"
   ]
  },
  {
   "cell_type": "code",
   "execution_count": 34,
   "id": "30a6562b",
   "metadata": {},
   "outputs": [
    {
     "name": "stdout",
     "output_type": "stream",
     "text": [
      "(1, 1, 257, 210, 253)\n"
     ]
    }
   ],
   "source": [
    "print(labels.shape)"
   ]
  },
  {
   "cell_type": "code",
   "execution_count": 35,
   "id": "b38d97f4",
   "metadata": {},
   "outputs": [
    {
     "data": {
      "application/vnd.jupyter.widget-view+json": {
       "model_id": "a0fb85888ee74bdeb7a6347141c5170a",
       "version_major": 2,
       "version_minor": 0
      },
      "text/plain": [
       "interactive(children=(IntSlider(value=0, continuous_update=False, description='Select Plane', max=3), Output()…"
      ]
     },
     "metadata": {},
     "output_type": "display_data"
    },
    {
     "data": {
      "text/plain": [
       "<function __main__.display(i=0)>"
      ]
     },
     "execution_count": 35,
     "metadata": {},
     "output_type": "execute_result"
    }
   ],
   "source": [
    "import matplotlib.pyplot as plt\n",
    "%matplotlib inline\n",
    "from ipywidgets import *\n",
    "\n",
    "def display(i=0):\n",
    "    r, z = results[i]\n",
    "    fig = plt.figure(figsize=(10, 10))\n",
    "    plt.subplot(121)\n",
    "    plt.imshow(r)\n",
    "    plt.title(\"Cellpose z: %s\" % z)\n",
    "    plt.subplot(122)\n",
    "    plt.imshow(labels[0, 0, z, :, :])\n",
    "    plt.title(\"Original z: %s\" % z)\n",
    "    fig.canvas.flush_events()\n",
    "\n",
    "interact(display, i= widgets.IntSlider(value=0, min=0, max=len(results)-1, step=1, description=\"Select Plane\", continuous_update=False))"
   ]
  },
  {
   "cell_type": "markdown",
   "id": "eb397484",
   "metadata": {},
   "source": [
    "## Cellpose and BIA data\n",
    "\n",
    "Using ome-zarr for both IDR and BIA allows us to use the same analytical pipeline on data stored in two different resources.\n",
    "We will run Cellpose against an [image](https://uk1s3.embassy.ebi.ac.uk/bia-integrator-data/pages/S-BIAD338/804b2976-1111-4099-8bfc-21d1d1d2163c.html) in BIA associated with the study with accession number [S-BIAD338]( https://www.ebi.ac.uk/biostudies/BioImages/studies/S-BIAD338)"
   ]
  },
  {
   "cell_type": "markdown",
   "id": "fb901dd3",
   "metadata": {},
   "source": [
    "### Lazy Loading of data\n",
    "\n",
    "To find the name, go to https://uk1s3.embassy.ebi.ac.uk/bia-integrator-data/pages/S-BIAD338/804b2976-1111-4099-8bfc-21d1d1d2163c.html. Click on ``Copy S3 URI to clipboard``, paste it here or into a text editor and remove the endpoint, i.e. the https://uk1s3.embassy.ebi.ac.uk."
   ]
  },
  {
   "cell_type": "code",
   "execution_count": 36,
   "id": "30dc4746",
   "metadata": {},
   "outputs": [
    {
     "name": "stdout",
     "output_type": "stream",
     "text": [
      "CPU times: user 10.2 ms, sys: 2.77 ms, total: 13 ms\n",
      "Wall time: 160 ms\n"
     ]
    }
   ],
   "source": [
    "%%time \n",
    "name = 'bia-integrator-data/S-BIAD338/804b2976-1111-4099-8bfc-21d1d1d2163c/804b2976-1111-4099-8bfc-21d1d1d2163c.zarr/0'\n",
    "data = load_binary_from_s3(name)"
   ]
  },
  {
   "cell_type": "code",
   "execution_count": 37,
   "id": "945b096e",
   "metadata": {},
   "outputs": [
    {
     "name": "stdout",
     "output_type": "stream",
     "text": [
      "[Delayed('analyze-6dbd2a7c-effc-4805-80cb-9131b8fc6acd'), Delayed('analyze-a459dc54-4cd5-427c-80b1-cf71edbe0ce5')]\n",
      "CPU times: user 1.6 ms, sys: 773 µs, total: 2.38 ms\n",
      "Wall time: 4.78 ms\n"
     ]
    }
   ],
   "source": [
    "%%time\n",
    "# Build the task graph. Due to the time and size of the image, we reduce the range\n",
    "lazy_results = build_task_graph(1)\n",
    "print(lazy_results)"
   ]
  },
  {
   "cell_type": "code",
   "execution_count": 78,
   "id": "da5c2a4b",
   "metadata": {},
   "outputs": [
    {
     "name": "stdout",
     "output_type": "stream",
     "text": [
      "CPU times: user 4min 13s, sys: 52.9 s, total: 5min 6s\n",
      "Wall time: 52.4 s\n"
     ]
    }
   ],
   "source": [
    "%time results = dask.compute(*lazy_results)"
   ]
  },
  {
   "cell_type": "code",
   "execution_count": 79,
   "id": "762a944d",
   "metadata": {},
   "outputs": [
    {
     "data": {
      "application/vnd.jupyter.widget-view+json": {
       "model_id": "6dbece7170ae4c96bc8792ab6963d8ec",
       "version_major": 2,
       "version_minor": 0
      },
      "text/plain": [
       "interactive(children=(IntSlider(value=0, continuous_update=False, description='Select Plane', max=1), Output()…"
      ]
     },
     "metadata": {},
     "output_type": "display_data"
    },
    {
     "data": {
      "text/plain": [
       "<function __main__.display_results(i=0)>"
      ]
     },
     "execution_count": 79,
     "metadata": {},
     "output_type": "execute_result"
    }
   ],
   "source": [
    "interact(display_results, i= widgets.IntSlider(value=0, min=0, max=len(results)-1, step=1, description=\"Select Plane\", continuous_update=False))"
   ]
  },
  {
   "cell_type": "markdown",
   "id": "3133061a",
   "metadata": {},
   "source": [
    "### License (BSD 2-Clause)\n",
    "Copyright (C) 2023 University of Dundee. All Rights Reserved.\n",
    "\n",
    "Redistribution and use in source and binary forms, with or without modification, are permitted provided that the following conditions are met:\n",
    "\n",
    "Redistributions of source code must retain the above copyright notice, this list of conditions and the following disclaimer.\n",
    "Redistributions in binary form must reproduce the above copyright notice, this list of conditions and the following disclaimer in the documentation and/or other materials provided with the distribution.\n",
    "THIS SOFTWARE IS PROVIDED BY THE COPYRIGHT HOLDERS AND CONTRIBUTORS \"AS IS\" AND ANY EXPRESS OR IMPLIED WARRANTIES, INCLUDING, BUT NOT LIMITED TO, THE IMPLIED WARRANTIES OF MERCHANTABILITY AND FITNESS FOR A PARTICULAR PURPOSE ARE DISCLAIMED. IN NO EVENT SHALL THE COPYRIGHT OWNER OR CONTRIBUTORS BE LIABLE FOR ANY DIRECT, INDIRECT, INCIDENTAL, SPECIAL, EXEMPLARY, OR CONSEQUENTIAL DAMAGES (INCLUDING, BUT NOT LIMITED TO, PROCUREMENT OF SUBSTITUTE GOODS OR SERVICES; LOSS OF USE, DATA, OR PROFITS; OR BUSINESS INTERRUPTION) HOWEVER CAUSED AND ON ANY THEORY OF LIABILITY, WHETHER IN CONTRACT, STRICT LIABILITY, OR TORT (INCLUDING NEGLIGENCE OR OTHERWISE) ARISING IN ANY WAY OUT OF THE USE OF THIS SOFTWARE, EVEN IF ADVISED OF THE POSSIBILITY OF SUCH DAMAGE."
   ]
  }
 ],
 "metadata": {
  "kernelspec": {
   "display_name": "imaging_course_day_5_2023",
   "language": "python",
   "name": "imaging_course_day_5_2023"
  },
  "language_info": {
   "codemirror_mode": {
    "name": "ipython",
    "version": 3
   },
   "file_extension": ".py",
   "mimetype": "text/x-python",
   "name": "python",
   "nbconvert_exporter": "python",
   "pygments_lexer": "ipython3",
   "version": "3.9.16"
  }
 },
 "nbformat": 4,
 "nbformat_minor": 5
}
